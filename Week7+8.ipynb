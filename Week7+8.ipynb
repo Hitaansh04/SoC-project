{
  "nbformat": 4,
  "nbformat_minor": 0,
  "metadata": {
    "colab": {
      "name": "Week7+8.ipynb",
      "provenance": [],
      "collapsed_sections": []
    },
    "kernelspec": {
      "name": "python3",
      "display_name": "Python 3"
    },
    "language_info": {
      "name": "python"
    }
  },
  "cells": [
    {
      "cell_type": "code",
      "execution_count": null,
      "metadata": {
        "id": "9mInVdBDoMr9"
      },
      "outputs": [],
      "source": [
        "path1=\"/content/drive/MyDrive/colab drives/Processed_DJI.csv\"\n",
        "path2=\"/content/drive/MyDrive/colab drives/Processed_NASDAQ.csv\"\n",
        "path3=\"/content/drive/MyDrive/colab drives/Processed_NYSE.csv\"\n",
        "path4=\"/content/drive/MyDrive/colab drives/Processed_RUSSELL.csv\"\n",
        "path5=\"/content/drive/MyDrive/colab drives/Processed_S&P.csv\""
      ]
    },
    {
      "cell_type": "code",
      "source": [
        "import numpy as np # linear algebra\n",
        "import pandas as pd # data processing, CSV file I/O (e.g. pd.read_csv)\n",
        "import seaborn as sns\n",
        "import matplotlib.pyplot as plt\n",
        "\n",
        "%matplotlib inline\n",
        "data1=pd.read_csv(path1)\n",
        "data2=pd.read_csv(path2)\n",
        "data3=pd.read_csv(path3)\n",
        "data4=pd.read_csv(path4)\n",
        "data5=pd.read_csv(path5)\n"
      ],
      "metadata": {
        "id": "zLq9LwK5o6Gr"
      },
      "execution_count": null,
      "outputs": []
    },
    {
      "cell_type": "code",
      "source": [
        "import pandas_datareader as pdr\n",
        "from datetime import datetime"
      ],
      "metadata": {
        "id": "CZS6jGqVpMwU"
      },
      "execution_count": null,
      "outputs": []
    },
    {
      "cell_type": "code",
      "source": [
        "data1['Close'].plot()"
      ],
      "metadata": {
        "colab": {
          "base_uri": "https://localhost:8080/",
          "height": 284
        },
        "id": "ukvhFosFpXho",
        "outputId": "84add473-d98f-4645-e988-abe5cb21d934"
      },
      "execution_count": null,
      "outputs": [
        {
          "output_type": "execute_result",
          "data": {
            "text/plain": [
              "<matplotlib.axes._subplots.AxesSubplot at 0x7f01e2982b10>"
            ]
          },
          "metadata": {},
          "execution_count": 7
        },
        {
          "output_type": "display_data",
          "data": {
            "text/plain": [
              "<Figure size 432x288 with 1 Axes>"
            ],
            "image/png": "[encoded data removed]"
          },
          "metadata": {
            "needs_background": "light"
          }
        }
      ]
    },
    {
      "cell_type": "code",
      "source": [
        "\n",
        "data1['Date']=pd.to_datetime(data1['Date'])\n",
        "\n",
        "data1=data1.set_index('Date',drop=True)\n",
        "data2['Date']=pd.to_datetime(data2['Date'])\n",
        "\n",
        "data2=data2.set_index('Date',drop=True)\n",
        "data3['Date']=pd.to_datetime(data3['Date'])\n",
        "\n",
        "data3=data3.set_index('Date',drop=True)\n",
        "data4['Date']=pd.to_datetime(data4['Date'])\n",
        "\n",
        "data4=data4.set_index('Date',drop=True)\n",
        "data5['Date']=pd.to_datetime(data5['Date'])\n",
        "\n",
        "data5=data5.set_index('Date',drop=True)\n",
        "\n",
        "from datetime import datetime"
      ],
      "metadata": {
        "id": "-PAry7WDpfCP"
      },
      "execution_count": null,
      "outputs": []
    },
    {
      "cell_type": "code",
      "source": [
        ""
      ],
      "metadata": {
        "id": "1O7bHU7pppzy"
      },
      "execution_count": null,
      "outputs": []
    },
    {
      "cell_type": "code",
      "source": [
        "#with sns.axes_style(style=None):\n",
        "    #sns.violinplot(\"Close\", data=data1,\n",
        "     #              split=True, inner=\"quartile\",\n",
        "      #             palette=[\"lightblue\", \"lightpink\"]);"
      ],
      "metadata": {
        "id": "Snnip-bPxPtr"
      },
      "execution_count": null,
      "outputs": []
    },
    {
      "cell_type": "code",
      "source": [
        "import random\n",
        "\n",
        "for column in data1:\n",
        "  try:\n",
        "     data1[column]=data1[column].fillna(data1[column].mean())\n",
        "  except:\n",
        "    continue\n",
        "\n",
        "\n",
        "for column in data2:\n",
        "  try:\n",
        "     data2[column]=data2[column].fillna(data2[column].mean())\n",
        "  except:\n",
        "    continue\n",
        "for column in data3:\n",
        "  try:\n",
        "     data3[column]=data3[column].fillna(data3[column].mean())\n",
        "  except:\n",
        "    continue\n",
        "for column in data4:\n",
        "  try:\n",
        "     data4[column]=data4[column].fillna(data4[column].mean())\n",
        "  except:\n",
        "    continue\n",
        "for column in data5:\n",
        "  try:\n",
        "     data5[column]=data5[column].fillna(data5[column].mean())\n",
        "  except:\n",
        "    continue    "
      ],
      "metadata": {
        "id": "-7PU2EyHqsqk"
      },
      "execution_count": null,
      "outputs": []
    },
    {
      "cell_type": "code",
      "source": [
        "#import seaborn as sns\n",
        "#fig = plt.subplots(figsize=(30,20)) \n",
        "#DJIcorr = data1.corr()\n",
        "#mask = np.triu(np.ones_like(DJIcorr, dtype=bool))\n",
        "#sns.heatmap(DJIcorr,xticklabels=DJIcorr.columns,yticklabels=DJIcorr.columns,mask=mask,vmin=0,vmax=1,annot=True)"
      ],
      "metadata": {
        "id": "WvtLIJSOMkF9"
      },
      "execution_count": null,
      "outputs": []
    },
    {
      "cell_type": "code",
      "source": [
        "import pandas as pd\n",
        "df=pd.DataFrame(index=data1.index)\n",
        "\n",
        "\n"
      ],
      "metadata": {
        "id": "BU1A1O2mMrQ2"
      },
      "execution_count": null,
      "outputs": []
    },
    {
      "cell_type": "code",
      "source": [
        "elements=np.zeros(1984)\n",
        "\n",
        "cols=['AAPL','AMZN','GE','JNJ','JPM','MSFT','WFC']\n",
        "for idx in range(len(cols)):\n",
        "  \n",
        "   #element[idc] = data1[cols[idx]].values[idc]\n",
        "   elements= elements + data1[cols[idx]].values\n",
        "\n",
        "elements=elements/7.0\n",
        "elements\n",
        "def NormalizeData(data):\n",
        "    return (data - np.min(data)) / (np.max(data) - np.min(data))\n",
        "\n",
        "elements=NormalizeData(elements)\n",
        "data1['EMA_10']=data1['EMA_10'].diff()\n",
        "kachra=(data1[\"Close\"].pct_change().shift(-1) > 0).astype(int)\n",
        "kachra"
      ],
      "metadata": {
        "id": "pQG0oQ1UGSsc",
        "colab": {
          "base_uri": "https://localhost:8080/"
        },
        "outputId": "b97aed22-ec1e-4b85-a7ee-c888824a28cf"
      },
      "execution_count": null,
      "outputs": [
        {
          "output_type": "execute_result",
          "data": {
            "text/plain": [
              "Date\n",
              "2009-12-31    1\n",
              "2010-01-04    0\n",
              "2010-01-05    1\n",
              "2010-01-06    1\n",
              "2010-01-07    1\n",
              "             ..\n",
              "2017-11-09    0\n",
              "2017-11-10    1\n",
              "2017-11-13    0\n",
              "2017-11-14    0\n",
              "2017-11-15    0\n",
              "Name: Close, Length: 1984, dtype: int64"
            ]
          },
          "metadata": {},
          "execution_count": 13
        }
      ]
    },
    {
      "cell_type": "code",
      "source": [
        "\n",
        "df['F11']=data1['ROC_5']\n",
        "df['F21']=data2['ROC_5']\n",
        "df['F31']=data3['ROC_5']\n",
        "df['F41']=data4['ROC_5']\n",
        "df['F51']=data5['ROC_5']\n",
        "df['F12']=data1['mom']\n",
        "df['F22']=data2['mom']\n",
        "df['F32']=data3['mom']\n",
        "df['F42']=data4['mom']\n",
        "df['F52']=data5['mom']\n",
        "df['FC1']=elements\n",
        "\n",
        "df['FC2']=(data1.Oil + data1.Gold + data1['copper-F'] + data1['silver-F'])/(4.0)\n",
        "\n",
        "\n",
        "currencies=['GBP','JPY','CAD','CNY']\n",
        "curr=np.zeros(1984)\n",
        "LATEST=['FTSE','GDAXI','GSPC','HSI','IXIC','RUT','NYSE']\n",
        "latest=np.zeros(1984)\n",
        "\n",
        "\n",
        "\n",
        "\n",
        "\n",
        "\n",
        "for idx in range(len(LATEST)):\n",
        "  \n",
        "   #element[idc] = data1[cols[idx]].values[idc]\n",
        "   latest= latest + data1[LATEST[idx]].values\n",
        "latest=latest/7.0\n",
        "df['FC4']=latest\n",
        "\n",
        "\n",
        "\n",
        "index=['RUSSELL-F','S&P-F','Nikkei-F','NASDAQ-F','KOSPI-F','HSI-F','FTSE-F']\n",
        "indices=np.zeros(1984)\n",
        "for idx in range(len(index)):\n",
        "  \n",
        "   #element[idc] = data1[cols[idx]].values[idc]\n",
        "   indices=indices + data1[index[idx]].values\n",
        "indices=indices/7.0\n",
        "df['FC5']=indices\n",
        "\n",
        "\n",
        "\n",
        "df['Target']=kachra"
      ],
      "metadata": {
        "id": "s9jilydjEsd0"
      },
      "execution_count": null,
      "outputs": []
    },
    {
      "cell_type": "code",
      "source": [
        "df"
      ],
      "metadata": {
        "colab": {
          "base_uri": "https://localhost:8080/",
          "height": 693
        },
        "id": "MAvGZCfcHO2P",
        "outputId": "748dc987-baef-4e89-c9fe-495ab74aab4f"
      },
      "execution_count": null,
      "outputs": [
        {
          "output_type": "execute_result",
          "data": {
            "text/plain": [
              "                 F11       F21       F31       F41       F51       F12  \\\n",
              "Date                                                                     \n",
              "2009-12-31  0.218703  0.298402  0.152682  0.248217  0.227627  0.000443   \n",
              "2010-01-04  0.218703  0.298402  0.152682  0.248217  0.227627  0.014951   \n",
              "2010-01-05  0.218703  0.298402  0.152682  0.248217  0.227627 -0.001128   \n",
              "2010-01-06  0.218703  0.298402  0.152682  0.248217  0.227627  0.000157   \n",
              "2010-01-07  0.218703  0.298402  0.152682  0.248217  0.227627  0.003138   \n",
              "...              ...       ...       ...       ...       ...       ...   \n",
              "2017-11-09 -0.230990  0.522862 -0.269134 -1.438644  0.184895 -0.004304   \n",
              "2017-11-10 -0.496952 -0.199573 -0.407821 -1.313792 -0.214080 -0.001693   \n",
              "2017-11-13 -0.461690 -0.424963 -0.678251 -1.528079 -0.242743  0.000747   \n",
              "2017-11-14 -0.627237 -0.441942 -0.736705 -0.529377 -0.454319 -0.001290   \n",
              "2017-11-15 -1.239552 -1.221221 -1.327280 -1.190501 -1.147086 -0.005903   \n",
              "\n",
              "                 F22       F32       F42       F52       FC1       FC2  \\\n",
              "Date                                                                     \n",
              "2009-12-31  0.000603  0.000316  0.000511  0.000464  0.542113  0.082347   \n",
              "2010-01-04  0.017306  0.019733  0.023521  0.016043  0.653866  1.161707   \n",
              "2010-01-05  0.000126  0.003839 -0.002515  0.003116  0.597946  0.551065   \n",
              "2010-01-06 -0.003300  0.003104 -0.000846  0.000546  0.497819  1.145723   \n",
              "2010-01-07 -0.000452  0.002200  0.006301  0.004001  0.627391 -0.241509   \n",
              "...              ...       ...       ...       ...       ...       ...   \n",
              "2017-11-09 -0.005755 -0.003638 -0.004528 -0.003762  0.499254 -0.258348   \n",
              "2017-11-10  0.000132 -0.001383  0.000169 -0.000898  0.538639 -0.226891   \n",
              "2017-11-13  0.000987 -0.000469 -0.000136  0.000984  0.449378  0.513852   \n",
              "2017-11-14 -0.002920 -0.002980 -0.002583 -0.002310  0.450022 -0.372999   \n",
              "2017-11-15 -0.004699 -0.004867 -0.004873 -0.005526  0.519236 -0.240261   \n",
              "\n",
              "                 FC4       FC5  Target  \n",
              "Date                                    \n",
              "2009-12-31  0.000400 -0.070000       1  \n",
              "2010-01-04  0.011073  0.972857       0  \n",
              "2010-01-05  0.003827  0.390000       1  \n",
              "2010-01-06  0.001061  0.230000       1  \n",
              "2010-01-07  0.000344 -0.150000       1  \n",
              "...              ...       ...     ...  \n",
              "2017-11-09 -0.004393 -0.211429       0  \n",
              "2017-11-10 -0.001932 -0.461429       1  \n",
              "2017-11-13 -0.000424 -0.167143       0  \n",
              "2017-11-14 -0.002152 -0.024286       0  \n",
              "2017-11-15 -0.005756 -0.744286       0  \n",
              "\n",
              "[1984 rows x 15 columns]"
            ],
            "text/html": [
              "\n",
              "  <div id=\"df-4acab025-d31c-4969-8241-aae5c493b484\">\n",
              "    <div class=\"colab-df-container\">\n",
              "      <div>\n",
              "<style scoped>\n",
              "    .dataframe tbody tr th:only-of-type {\n",
              "        vertical-align: middle;\n",
              "    }\n",
              "\n",
              "    .dataframe tbody tr th {\n",
              "        vertical-align: top;\n",
              "    }\n",
              "\n",
              "    .dataframe thead th {\n",
              "        text-align: right;\n",
              "    }\n",
              "</style>\n",
              "<table border=\"1\" class=\"dataframe\">\n",
              "  <thead>\n",
              "    <tr style=\"text-align: right;\">\n",
              "      <th></th>\n",
              "      <th>F11</th>\n",
              "      <th>F21</th>\n",
              "      <th>F31</th>\n",
              "      <th>F41</th>\n",
              "      <th>F51</th>\n",
              "      <th>F12</th>\n",
              "      <th>F22</th>\n",
              "      <th>F32</th>\n",
              "      <th>F42</th>\n",
              "      <th>F52</th>\n",
              "      <th>FC1</th>\n",
              "      <th>FC2</th>\n",
              "      <th>FC4</th>\n",
              "      <th>FC5</th>\n",
              "      <th>Target</th>\n",
              "    </tr>\n",
              "    <tr>\n",
              "      <th>Date</th>\n",
              "      <th></th>\n",
              "      <th></th>\n",
              "      <th></th>\n",
              "      <th></th>\n",
              "      <th></th>\n",
              "      <th></th>\n",
              "      <th></th>\n",
              "      <th></th>\n",
              "      <th></th>\n",
              "      <th></th>\n",
              "      <th></th>\n",
              "      <th></th>\n",
              "      <th></th>\n",
              "      <th></th>\n",
              "      <th></th>\n",
              "    </tr>\n",
              "  </thead>\n",
              "  <tbody>\n",
              "    <tr>\n",
              "      <th>2009-12-31</th>\n",
              "      <td>0.218703</td>\n",
              "      <td>0.298402</td>\n",
              "      <td>0.152682</td>\n",
              "      <td>0.248217</td>\n",
              "      <td>0.227627</td>\n",
              "      <td>0.000443</td>\n",
              "      <td>0.000603</td>\n",
              "      <td>0.000316</td>\n",
              "      <td>0.000511</td>\n",
              "      <td>0.000464</td>\n",
              "      <td>0.542113</td>\n",
              "      <td>0.082347</td>\n",
              "      <td>0.000400</td>\n",
              "      <td>-0.070000</td>\n",
              "      <td>1</td>\n",
              "    </tr>\n",
              "    <tr>\n",
              "      <th>2010-01-04</th>\n",
              "      <td>0.218703</td>\n",
              "      <td>0.298402</td>\n",
              "      <td>0.152682</td>\n",
              "      <td>0.248217</td>\n",
              "      <td>0.227627</td>\n",
              "      <td>0.014951</td>\n",
              "      <td>0.017306</td>\n",
              "      <td>0.019733</td>\n",
              "      <td>0.023521</td>\n",
              "      <td>0.016043</td>\n",
              "      <td>0.653866</td>\n",
              "      <td>1.161707</td>\n",
              "      <td>0.011073</td>\n",
              "      <td>0.972857</td>\n",
              "      <td>0</td>\n",
              "    </tr>\n",
              "    <tr>\n",
              "      <th>2010-01-05</th>\n",
              "      <td>0.218703</td>\n",
              "      <td>0.298402</td>\n",
              "      <td>0.152682</td>\n",
              "      <td>0.248217</td>\n",
              "      <td>0.227627</td>\n",
              "      <td>-0.001128</td>\n",
              "      <td>0.000126</td>\n",
              "      <td>0.003839</td>\n",
              "      <td>-0.002515</td>\n",
              "      <td>0.003116</td>\n",
              "      <td>0.597946</td>\n",
              "      <td>0.551065</td>\n",
              "      <td>0.003827</td>\n",
              "      <td>0.390000</td>\n",
              "      <td>1</td>\n",
              "    </tr>\n",
              "    <tr>\n",
              "      <th>2010-01-06</th>\n",
              "      <td>0.218703</td>\n",
              "      <td>0.298402</td>\n",
              "      <td>0.152682</td>\n",
              "      <td>0.248217</td>\n",
              "      <td>0.227627</td>\n",
              "      <td>0.000157</td>\n",
              "      <td>-0.003300</td>\n",
              "      <td>0.003104</td>\n",
              "      <td>-0.000846</td>\n",
              "      <td>0.000546</td>\n",
              "      <td>0.497819</td>\n",
              "      <td>1.145723</td>\n",
              "      <td>0.001061</td>\n",
              "      <td>0.230000</td>\n",
              "      <td>1</td>\n",
              "    </tr>\n",
              "    <tr>\n",
              "      <th>2010-01-07</th>\n",
              "      <td>0.218703</td>\n",
              "      <td>0.298402</td>\n",
              "      <td>0.152682</td>\n",
              "      <td>0.248217</td>\n",
              "      <td>0.227627</td>\n",
              "      <td>0.003138</td>\n",
              "      <td>-0.000452</td>\n",
              "      <td>0.002200</td>\n",
              "      <td>0.006301</td>\n",
              "      <td>0.004001</td>\n",
              "      <td>0.627391</td>\n",
              "      <td>-0.241509</td>\n",
              "      <td>0.000344</td>\n",
              "      <td>-0.150000</td>\n",
              "      <td>1</td>\n",
              "    </tr>\n",
              "    <tr>\n",
              "      <th>...</th>\n",
              "      <td>...</td>\n",
              "      <td>...</td>\n",
              "      <td>...</td>\n",
              "      <td>...</td>\n",
              "      <td>...</td>\n",
              "      <td>...</td>\n",
              "      <td>...</td>\n",
              "      <td>...</td>\n",
              "      <td>...</td>\n",
              "      <td>...</td>\n",
              "      <td>...</td>\n",
              "      <td>...</td>\n",
              "      <td>...</td>\n",
              "      <td>...</td>\n",
              "      <td>...</td>\n",
              "    </tr>\n",
              "    <tr>\n",
              "      <th>2017-11-09</th>\n",
              "      <td>-0.230990</td>\n",
              "      <td>0.522862</td>\n",
              "      <td>-0.269134</td>\n",
              "      <td>-1.438644</td>\n",
              "      <td>0.184895</td>\n",
              "      <td>-0.004304</td>\n",
              "      <td>-0.005755</td>\n",
              "      <td>-0.003638</td>\n",
              "      <td>-0.004528</td>\n",
              "      <td>-0.003762</td>\n",
              "      <td>0.499254</td>\n",
              "      <td>-0.258348</td>\n",
              "      <td>-0.004393</td>\n",
              "      <td>-0.211429</td>\n",
              "      <td>0</td>\n",
              "    </tr>\n",
              "    <tr>\n",
              "      <th>2017-11-10</th>\n",
              "      <td>-0.496952</td>\n",
              "      <td>-0.199573</td>\n",
              "      <td>-0.407821</td>\n",
              "      <td>-1.313792</td>\n",
              "      <td>-0.214080</td>\n",
              "      <td>-0.001693</td>\n",
              "      <td>0.000132</td>\n",
              "      <td>-0.001383</td>\n",
              "      <td>0.000169</td>\n",
              "      <td>-0.000898</td>\n",
              "      <td>0.538639</td>\n",
              "      <td>-0.226891</td>\n",
              "      <td>-0.001932</td>\n",
              "      <td>-0.461429</td>\n",
              "      <td>1</td>\n",
              "    </tr>\n",
              "    <tr>\n",
              "      <th>2017-11-13</th>\n",
              "      <td>-0.461690</td>\n",
              "      <td>-0.424963</td>\n",
              "      <td>-0.678251</td>\n",
              "      <td>-1.528079</td>\n",
              "      <td>-0.242743</td>\n",
              "      <td>0.000747</td>\n",
              "      <td>0.000987</td>\n",
              "      <td>-0.000469</td>\n",
              "      <td>-0.000136</td>\n",
              "      <td>0.000984</td>\n",
              "      <td>0.449378</td>\n",
              "      <td>0.513852</td>\n",
              "      <td>-0.000424</td>\n",
              "      <td>-0.167143</td>\n",
              "      <td>0</td>\n",
              "    </tr>\n",
              "    <tr>\n",
              "      <th>2017-11-14</th>\n",
              "      <td>-0.627237</td>\n",
              "      <td>-0.441942</td>\n",
              "      <td>-0.736705</td>\n",
              "      <td>-0.529377</td>\n",
              "      <td>-0.454319</td>\n",
              "      <td>-0.001290</td>\n",
              "      <td>-0.002920</td>\n",
              "      <td>-0.002980</td>\n",
              "      <td>-0.002583</td>\n",
              "      <td>-0.002310</td>\n",
              "      <td>0.450022</td>\n",
              "      <td>-0.372999</td>\n",
              "      <td>-0.002152</td>\n",
              "      <td>-0.024286</td>\n",
              "      <td>0</td>\n",
              "    </tr>\n",
              "    <tr>\n",
              "      <th>2017-11-15</th>\n",
              "      <td>-1.239552</td>\n",
              "      <td>-1.221221</td>\n",
              "      <td>-1.327280</td>\n",
              "      <td>-1.190501</td>\n",
              "      <td>-1.147086</td>\n",
              "      <td>-0.005903</td>\n",
              "      <td>-0.004699</td>\n",
              "      <td>-0.004867</td>\n",
              "      <td>-0.004873</td>\n",
              "      <td>-0.005526</td>\n",
              "      <td>0.519236</td>\n",
              "      <td>-0.240261</td>\n",
              "      <td>-0.005756</td>\n",
              "      <td>-0.744286</td>\n",
              "      <td>0</td>\n",
              "    </tr>\n",
              "  </tbody>\n",
              "</table>\n",
              "<p>1984 rows × 15 columns</p>\n",
              "</div>\n",
              "      <button class=\"colab-df-convert\" onclick=\"convertToInteractive('df-4acab025-d31c-4969-8241-aae5c493b484')\"\n",
              "              title=\"Convert this dataframe to an interactive table.\"\n",
              "              style=\"display:none;\">\n",
              "        \n",
              "  <svg xmlns=\"http://www.w3.org/2000/svg\" height=\"24px\"viewBox=\"0 0 24 24\"\n",
              "       width=\"24px\">\n",
              "    <path d=\"M0 0h24v24H0V0z\" fill=\"none\"/>\n",
              "    <path d=\"M18.56 5.44l.94 2.06.94-2.06 2.06-.94-2.06-.94-.94-2.06-.94 2.06-2.06.94zm-11 1L8.5 8.5l.94-2.06 2.06-.94-2.06-.94L8.5 2.5l-.94 2.06-2.06.94zm10 10l.94 2.06.94-2.06 2.06-.94-2.06-.94-.94-2.06-.94 2.06-2.06.94z\"/><path d=\"M17.41 7.96l-1.37-1.37c-.4-.4-.92-.59-1.43-.59-.52 0-1.04.2-1.43.59L10.3 9.45l-7.72 7.72c-.78.78-.78 2.05 0 2.83L4 21.41c.39.39.9.59 1.41.59.51 0 1.02-.2 1.41-.59l7.78-7.78 2.81-2.81c.8-.78.8-2.07 0-2.86zM5.41 20L4 18.59l7.72-7.72 1.47 1.35L5.41 20z\"/>\n",
              "  </svg>\n",
              "      </button>\n",
              "      \n",
              "  <style>\n",
              "    .colab-df-container {\n",
              "      display:flex;\n",
              "      flex-wrap:wrap;\n",
              "      gap: 12px;\n",
              "    }\n",
              "\n",
              "    .colab-df-convert {\n",
              "      background-color: #E8F0FE;\n",
              "      border: none;\n",
              "      border-radius: 50%;\n",
              "      cursor: pointer;\n",
              "      display: none;\n",
              "      fill: #1967D2;\n",
              "      height: 32px;\n",
              "      padding: 0 0 0 0;\n",
              "      width: 32px;\n",
              "    }\n",
              "\n",
              "    .colab-df-convert:hover {\n",
              "      background-color: #E2EBFA;\n",
              "      box-shadow: 0px 1px 2px rgba(60, 64, 67, 0.3), 0px 1px 3px 1px rgba(60, 64, 67, 0.15);\n",
              "      fill: #174EA6;\n",
              "    }\n",
              "\n",
              "    [theme=dark] .colab-df-convert {\n",
              "      background-color: #3B4455;\n",
              "      fill: #D2E3FC;\n",
              "    }\n",
              "\n",
              "    [theme=dark] .colab-df-convert:hover {\n",
              "      background-color: #434B5C;\n",
              "      box-shadow: 0px 1px 3px 1px rgba(0, 0, 0, 0.15);\n",
              "      filter: drop-shadow(0px 1px 2px rgba(0, 0, 0, 0.3));\n",
              "      fill: #FFFFFF;\n",
              "    }\n",
              "  </style>\n",
              "\n",
              "      <script>\n",
              "        const buttonEl =\n",
              "          document.querySelector('#df-4acab025-d31c-4969-8241-aae5c493b484 button.colab-df-convert');\n",
              "        buttonEl.style.display =\n",
              "          google.colab.kernel.accessAllowed ? 'block' : 'none';\n",
              "\n",
              "        async function convertToInteractive(key) {\n",
              "          const element = document.querySelector('#df-4acab025-d31c-4969-8241-aae5c493b484');\n",
              "          const dataTable =\n",
              "            await google.colab.kernel.invokeFunction('convertToInteractive',\n",
              "                                                     [key], {});\n",
              "          if (!dataTable) return;\n",
              "\n",
              "          const docLinkHtml = 'Like what you see? Visit the ' +\n",
              "            '<a target=\"_blank\" href=https://colab.research.google.com/notebooks/data_table.ipynb>data table notebook</a>'\n",
              "            + ' to learn more about interactive tables.';\n",
              "          element.innerHTML = '';\n",
              "          dataTable['output_type'] = 'display_data';\n",
              "          await google.colab.output.renderOutput(dataTable, element);\n",
              "          const docLink = document.createElement('div');\n",
              "          docLink.innerHTML = docLinkHtml;\n",
              "          element.appendChild(docLink);\n",
              "        }\n",
              "      </script>\n",
              "    </div>\n",
              "  </div>\n",
              "  "
            ]
          },
          "metadata": {},
          "execution_count": 15
        }
      ]
    },
    {
      "cell_type": "code",
      "source": [
        "#data2=df\n",
        "#from sklearn.preprocessing import StandardScaler\n",
        "  \n",
        "#scalar = StandardScaler()\n",
        "  \n",
        "# fitting\n",
        "#scalar.fit(data2)\n",
        "#scaled_data = scalar.transform(data2)\n",
        "\n",
        "\n",
        "#scaled_data\n"
      ],
      "metadata": {
        "id": "d1sURUeSZFmq"
      },
      "execution_count": null,
      "outputs": []
    },
    {
      "cell_type": "code",
      "source": [
        "import seaborn as sns\n",
        "\n",
        "import matplotlib.pyplot as plt\n",
        "%matplotlib inline\n",
        "from IPython.display import display\n",
        "\n",
        "from scipy.cluster import hierarchy\n",
        "from scipy.spatial import distance\n",
        "\n",
        "from sklearn.preprocessing import StandardScaler,Normalizer"
      ],
      "metadata": {
        "id": "jyf7EYrbudYA"
      },
      "execution_count": null,
      "outputs": []
    },
    {
      "cell_type": "code",
      "source": [
        "corr_matrix = df.corr()\n",
        "correlations_array = np.asarray(corr_matrix)\n",
        "\n",
        "linkage = hierarchy.linkage(distance.pdist(correlations_array), \\\n",
        "                            method='average')\n",
        "\n",
        "g = sns.clustermap(corr_matrix,row_linkage=linkage,col_linkage=linkage,\\\n",
        "                   row_cluster=True,col_cluster=True,figsize=(10,10),cmap='Greens')\n",
        "plt.setp(g.ax_heatmap.yaxis.get_majorticklabels(), rotation=0)\n",
        "plt.show()\n",
        "\n",
        "label_order = corr_matrix.iloc[:,g.dendrogram_row.reordered_ind].columns"
      ],
      "metadata": {
        "colab": {
          "base_uri": "https://localhost:8080/",
          "height": 730
        },
        "id": "bj83VdBKwLUD",
        "outputId": "57521c2a-bc08-4a44-8a0b-5f37827b2b5b"
      },
      "execution_count": null,
      "outputs": [
        {
          "output_type": "display_data",
          "data": {
            "text/plain": [
              "<Figure size 720x720 with 4 Axes>"
            ],
            "image/png": "[encoded data removed]"
          },
          "metadata": {
            "needs_background": "light"
          }
        }
      ]
    },
    {
      "cell_type": "code",
      "source": [
        "corr = df.corrwith(data1['mom'])\n",
        "corr.sort_values().plot.barh(color = 'blue',title = 'Strength of Correlation')"
      ],
      "metadata": {
        "colab": {
          "base_uri": "https://localhost:8080/",
          "height": 299
        },
        "id": "hNZewBmMuU4m",
        "outputId": "7ba8f87c-04e3-4c70-91ea-c6e44e4aafa2"
      },
      "execution_count": null,
      "outputs": [
        {
          "output_type": "execute_result",
          "data": {
            "text/plain": [
              "<matplotlib.axes._subplots.AxesSubplot at 0x7f01e1d010d0>"
            ]
          },
          "metadata": {},
          "execution_count": 19
        },
        {
          "output_type": "display_data",
          "data": {
            "text/plain": [
              "<Figure size 432x288 with 1 Axes>"
            ],
            "image/png": "[encoded data removed]"
          },
          "metadata": {
            "needs_background": "light"
          }
        }
      ]
    },
    {
      "cell_type": "code",
      "source": [
        "correlated_features = corr[corr>0.1].index.tolist()\n",
        "corr_matrix = df[correlated_features].corr()\n",
        "correlations_array = np.asarray(corr_matrix)\n",
        "\n",
        "linkage = hierarchy.linkage(distance.pdist(correlations_array), \\\n",
        "                            method='average')\n",
        "\n",
        "g = sns.clustermap(corr_matrix,row_linkage=linkage,col_linkage=linkage,\\\n",
        "                   row_cluster=True,col_cluster=True,figsize=(6,6),cmap='Greens')\n",
        "plt.setp(g.ax_heatmap.yaxis.get_majorticklabels(), rotation=0)\n",
        "plt.show()\n",
        "\n",
        "label_order = corr_matrix.iloc[:,g.dendrogram_row.reordered_ind].columns\n",
        "print(\"Correlation Strength:\")\n",
        "print(corr[corr>0.1].sort_values(ascending=False))"
      ],
      "metadata": {
        "colab": {
          "base_uri": "https://localhost:8080/",
          "height": 733
        },
        "id": "-RIIb7woZzCO",
        "outputId": "01d85fcb-d154-4394-8ea8-275da14d8f63"
      },
      "execution_count": null,
      "outputs": [
        {
          "output_type": "display_data",
          "data": {
            "text/plain": [
              "<Figure size 432x432 with 4 Axes>"
            ],
            "image/png": "[encoded data removed]"
          },
          "metadata": {
            "needs_background": "light"
          }
        },
        {
          "output_type": "stream",
          "name": "stdout",
          "text": [
            "Correlation Strength:\n",
            "F12    1.000000\n",
            "F52    0.974587\n",
            "F32    0.956406\n",
            "F22    0.900889\n",
            "FC1    0.899232\n",
            "FC4    0.897859\n",
            "F42    0.866813\n",
            "FC5    0.770498\n",
            "F11    0.426683\n",
            "F51    0.422423\n",
            "F31    0.419808\n",
            "F41    0.382934\n",
            "F21    0.377945\n",
            "FC2    0.294769\n",
            "dtype: float64\n"
          ]
        }
      ]
    },
    {
      "cell_type": "code",
      "source": [
        "TRAIN_TEST_CUTOFF = '2016-04-21'\n",
        "TRAIN_VALID_RATIO = 0.75\n",
        " \n",
        "def datagen(df, seq_len, batch_size, targetcol, kind):\n",
        "    \"As a generator to produce samples for Keras model\"\n",
        "    batch = []\n",
        "    while True:\n",
        "        # Pick one dataframe from the pool\n",
        "        \n",
        "        input_cols = [c for c in df.columns if c != targetcol]\n",
        "        index = df.index[df.index < TRAIN_TEST_CUTOFF]\n",
        "        split = int(len(index) * TRAIN_VALID_RATIO)\n",
        "        if kind == 'train':\n",
        "            index = index[:split]   # range for the training set\n",
        "        elif kind == 'valid':\n",
        "            index = index[split:]   # range for the validation set\n",
        "        # Pick one position, then clip a sequence length\n",
        "        while True:\n",
        "            t = random.choice(index)      # pick one time step\n",
        "            n = (df.index == t).argmax()  # find its position in the dataframe\n",
        "            if n-seq_len+1 < 0:\n",
        "                continue # can't get enough data for one sequence length\n",
        "            frame = df.iloc[n-seq_len+1:n+1]\n",
        "            batch.append([frame[input_cols].values, df.loc[t, targetcol]])\n",
        "            break\n",
        "        # if we get enough for a batch, dispatch\n",
        "        if len(batch) == batch_size:\n",
        "            X, y = zip(*batch)\n",
        "            X, y = np.expand_dims(np.array(X), 3), np.array(y)\n",
        "            yield X, y\n",
        "            batch=[]\n"
      ],
      "metadata": {
        "id": "1S3VTlkJsceS"
      },
      "execution_count": null,
      "outputs": []
    },
    {
      "cell_type": "code",
      "source": [
        "seq_len = 60\n",
        "batch_size = 64\n",
        "n_epochs = 20\n",
        "n_features =14\n",
        " \n",
        "\n"
      ],
      "metadata": {
        "id": "TOyiAzcnBk6L"
      },
      "execution_count": null,
      "outputs": []
    },
    {
      "cell_type": "code",
      "source": [
        "import tensorflow as tf\n",
        "from tensorflow.keras import backend as K\n",
        "from tensorflow.keras.layers import Dense, Dropout, Flatten, Conv2D, MaxPool2D, Input\n",
        "from tensorflow.keras.models import Sequential, load_model\n",
        "from tensorflow.keras.callbacks import ModelCheckpoint\n",
        "from sklearn.preprocessing import StandardScaler\n",
        "from sklearn.metrics import accuracy_score, f1_score, mean_absolute_error\n",
        " "
      ],
      "metadata": {
        "id": "M9V1wJBmV72l"
      },
      "execution_count": null,
      "outputs": []
    },
    {
      "cell_type": "code",
      "source": [
        "def recall_m(y_true, y_pred):\n",
        "    true_positives = K.sum(K.round(K.clip(y_true * y_pred, 0, 1)))\n",
        "    possible_positives = K.sum(K.round(K.clip(y_true, 0, 1)))\n",
        "    recall = true_positives / (possible_positives + K.epsilon())\n",
        "    return recall\n",
        " \n",
        "def precision_m(y_true, y_pred):\n",
        "    true_positives = K.sum(K.round(K.clip(y_true * y_pred, 0, 1)))\n",
        "    predicted_positives = K.sum(K.round(K.clip(y_pred, 0, 1)))\n",
        "    precision = true_positives / (predicted_positives + K.epsilon())\n",
        "    return precision\n",
        " \n",
        "def f1_m(y_true, y_pred):\n",
        "    precision = precision_m(y_true, y_pred)\n",
        "    recall = recall_m(y_true, y_pred)\n",
        "    return 2*((precision*recall)/(precision+recall+K.epsilon()))\n",
        " \n",
        "def f1macro(y_true, y_pred):\n",
        "    f_pos = f1_m(y_true, y_pred)\n",
        "    # negative version of the data and prediction\n",
        "    f_neg = f1_m(1-y_true, 1-K.clip(y_pred,0,1))\n",
        "    return (f_pos + f_neg)/2"
      ],
      "metadata": {
        "id": "NkNxbTlSWL3B"
      },
      "execution_count": null,
      "outputs": []
    },
    {
      "cell_type": "code",
      "source": [
        "df.info()"
      ],
      "metadata": {
        "colab": {
          "base_uri": "https://localhost:8080/"
        },
        "id": "TqNv2y6fYOAV",
        "outputId": "cac5514e-f32b-4dff-c569-f3caabe1c8ca"
      },
      "execution_count": null,
      "outputs": [
        {
          "output_type": "stream",
          "name": "stdout",
          "text": [
            "<class 'pandas.core.frame.DataFrame'>\n",
            "DatetimeIndex: 1984 entries, 2009-12-31 to 2017-11-15\n",
            "Data columns (total 15 columns):\n",
            " #   Column  Non-Null Count  Dtype  \n",
            "---  ------  --------------  -----  \n",
            " 0   F11     1984 non-null   float64\n",
            " 1   F21     1984 non-null   float64\n",
            " 2   F31     1984 non-null   float64\n",
            " 3   F41     1984 non-null   float64\n",
            " 4   F51     1984 non-null   float64\n",
            " 5   F12     1984 non-null   float64\n",
            " 6   F22     1984 non-null   float64\n",
            " 7   F32     1984 non-null   float64\n",
            " 8   F42     1984 non-null   float64\n",
            " 9   F52     1984 non-null   float64\n",
            " 10  FC1     1984 non-null   float64\n",
            " 11  FC2     1984 non-null   float64\n",
            " 12  FC4     1984 non-null   float64\n",
            " 13  FC5     1984 non-null   float64\n",
            " 14  Target  1984 non-null   int64  \n",
            "dtypes: float64(14), int64(1)\n",
            "memory usage: 248.0 KB\n"
          ]
        }
      ]
    },
    {
      "cell_type": "code",
      "source": [
        "def cnnpred_2d(seq_len=60, n_features=14, n_filters=(3,3,3), droprate=0.1):\n",
        "    \"2D-CNNpred model according to the paper\"\n",
        "    model = Sequential([\n",
        "        Input(shape=(seq_len, n_features, 1)),\n",
        "        Conv2D(n_filters[0], kernel_size=(1, n_features), activation=\"relu\"),\n",
        "        Conv2D(n_filters[1], kernel_size=(3,1), activation=\"relu\"),\n",
        "        MaxPool2D(pool_size=(2,1)),\n",
        "        Conv2D(n_filters[2], kernel_size=(3,1), activation=\"relu\"),\n",
        "        MaxPool2D(pool_size=(2,1)),\n",
        "        Flatten(),\n",
        "        Dropout(droprate),\n",
        "        Dense(1, activation=\"sigmoid\")\n",
        "    ])\n",
        "    return model"
      ],
      "metadata": {
        "id": "Ihr8roVNWQ8T"
      },
      "execution_count": null,
      "outputs": []
    },
    {
      "cell_type": "code",
      "source": [
        "\n"
      ],
      "metadata": {
        "id": "WeQJwKa9ZFgF"
      },
      "execution_count": null,
      "outputs": []
    },
    {
      "cell_type": "code",
      "source": [
        "def testgen(data, seq_len, targetcol):\n",
        "    \"Return array of all test samples\"\n",
        "    batch = []\n",
        "    for key, df in data.items():\n",
        "        input_cols = [c for c in df.columns if c != targetcol]\n",
        "        # find the start of test sample\n",
        "        t = df.index[df.index >= TRAIN_TEST_CUTOFF][0]\n",
        "        n = (df.index == t).argmax()\n",
        "        # extract sample using a sliding window\n",
        "        for i in range(n+1, len(df)+1):\n",
        "            frame = df.iloc[i-seq_len:i]\n",
        "            batch.append([frame[input_cols].values, frame[targetcol][-1]])\n",
        "    X, y = zip(*batch)\n",
        "    return np.expand_dims(np.array(X),3), np.array(y)\n",
        " "
      ],
      "metadata": {
        "id": "Ktc75RJCWlNs"
      },
      "execution_count": null,
      "outputs": []
    },
    {
      "cell_type": "code",
      "source": [
        "model = cnnpred_2d(seq_len, n_features)\n",
        "model.compile(optimizer=\"adam\", loss=\"mae\", metrics=[\"acc\", f1macro])\n",
        "model.summary()  # print model structure to console\n",
        " \n",
        "# Set up callbacks and fit the model\n",
        "# We use custom validation score f1macro() and hence monitor for \"val_f1macro\"\n",
        "checkpoint_path = \"./cp2d-{epoch}-{val_f1macro:.2f}.h5\"\n",
        "callbacks = [\n",
        "    ModelCheckpoint(checkpoint_path,\n",
        "                    monitor='val_f1macro', mode=\"max\",\n",
        "                    verbose=0, save_best_only=True, save_weights_only=False, save_freq=\"epoch\")\n",
        "]\n",
        "model.fit(datagen(df, seq_len, batch_size, 'Target', \"train\"),\n",
        "          validation_data=datagen(df, seq_len, batch_size, \"Target\", \"valid\"),\n",
        "          epochs=n_epochs, steps_per_epoch=400, validation_steps=10, verbose=1, callbacks=callbacks)\n",
        " \n",
        "# Prepare test data\n",
        "test_data, test_target = testgen(df, seq_len, 'Target')"
      ],
      "metadata": {
        "colab": {
          "base_uri": "https://localhost:8080/",
          "height": 925
        },
        "id": "q95C92VCWp3Q",
        "outputId": "e9070f5d-7854-4dba-fa23-307a4bce2e84"
      },
      "execution_count": null,
      "outputs": [
        {
          "output_type": "stream",
          "name": "stdout",
          "text": [
            "Model: \"sequential_3\"\n",
            "_________________________________________________________________\n",
            " Layer (type)                Output Shape              Param #   \n",
            "=================================================================\n",
            " conv2d_8 (Conv2D)           (None, 60, 1, 3)          45        \n",
            "                                                                 \n",
            " conv2d_9 (Conv2D)           (None, 58, 1, 3)          30        \n",
            "                                                                 \n",
            " max_pooling2d_6 (MaxPooling  (None, 29, 1, 3)         0         \n",
            " 2D)                                                             \n",
            "                                                                 \n",
            " conv2d_10 (Conv2D)          (None, 27, 1, 3)          30        \n",
            "                                                                 \n",
            " max_pooling2d_7 (MaxPooling  (None, 13, 1, 3)         0         \n",
            " 2D)                                                             \n",
            "                                                                 \n",
            " flatten_3 (Flatten)         (None, 39)                0         \n",
            "                                                                 \n",
            " dropout_1 (Dropout)         (None, 39)                0         \n",
            "                                                                 \n",
            " dense_7 (Dense)             (None, 1)                 40        \n",
            "                                                                 \n",
            "=================================================================\n",
            "Total params: 145\n",
            "Trainable params: 145\n",
            "Non-trainable params: 0\n",
            "_________________________________________________________________\n",
            "Epoch 1/20\n",
            "252/400 [=================>............] - ETA: 11s - loss: 0.4743 - acc: 0.5331 - f1macro: 0.4182"
          ]
        },
        {
          "output_type": "error",
          "ename": "KeyboardInterrupt",
          "evalue": "ignored",
          "traceback": [
            "\u001b[0;31m---------------------------------------------------------------------------\u001b[0m",
            "\u001b[0;31mKeyboardInterrupt\u001b[0m                         Traceback (most recent call last)",
            "\u001b[0;32m<ipython-input-41-881a1e4f9aa6>\u001b[0m in \u001b[0;36m<module>\u001b[0;34m()\u001b[0m\n\u001b[1;32m     13\u001b[0m model.fit(datagen(df, seq_len, batch_size, 'Target', \"train\"),\n\u001b[1;32m     14\u001b[0m           \u001b[0mvalidation_data\u001b[0m\u001b[0;34m=\u001b[0m\u001b[0mdatagen\u001b[0m\u001b[0;34m(\u001b[0m\u001b[0mdf\u001b[0m\u001b[0;34m,\u001b[0m \u001b[0mseq_len\u001b[0m\u001b[0;34m,\u001b[0m \u001b[0mbatch_size\u001b[0m\u001b[0;34m,\u001b[0m \u001b[0;34m\"Target\"\u001b[0m\u001b[0;34m,\u001b[0m \u001b[0;34m\"valid\"\u001b[0m\u001b[0;34m)\u001b[0m\u001b[0;34m,\u001b[0m\u001b[0;34m\u001b[0m\u001b[0;34m\u001b[0m\u001b[0m\n\u001b[0;32m---> 15\u001b[0;31m           epochs=n_epochs, steps_per_epoch=400, validation_steps=10, verbose=1, callbacks=callbacks)\n\u001b[0m\u001b[1;32m     16\u001b[0m \u001b[0;34m\u001b[0m\u001b[0m\n\u001b[1;32m     17\u001b[0m \u001b[0;31m# Prepare test data\u001b[0m\u001b[0;34m\u001b[0m\u001b[0;34m\u001b[0m\u001b[0;34m\u001b[0m\u001b[0m\n",
            "\u001b[0;32m/usr/local/lib/python3.7/dist-packages/keras/utils/traceback_utils.py\u001b[0m in \u001b[0;36merror_handler\u001b[0;34m(*args, **kwargs)\u001b[0m\n\u001b[1;32m     62\u001b[0m     \u001b[0mfiltered_tb\u001b[0m \u001b[0;34m=\u001b[0m \u001b[0;32mNone\u001b[0m\u001b[0;34m\u001b[0m\u001b[0;34m\u001b[0m\u001b[0m\n\u001b[1;32m     63\u001b[0m     \u001b[0;32mtry\u001b[0m\u001b[0;34m:\u001b[0m\u001b[0;34m\u001b[0m\u001b[0;34m\u001b[0m\u001b[0m\n\u001b[0;32m---> 64\u001b[0;31m       \u001b[0;32mreturn\u001b[0m \u001b[0mfn\u001b[0m\u001b[0;34m(\u001b[0m\u001b[0;34m*\u001b[0m\u001b[0margs\u001b[0m\u001b[0;34m,\u001b[0m \u001b[0;34m**\u001b[0m\u001b[0mkwargs\u001b[0m\u001b[0;34m)\u001b[0m\u001b[0;34m\u001b[0m\u001b[0;34m\u001b[0m\u001b[0m\n\u001b[0m\u001b[1;32m     65\u001b[0m     \u001b[0;32mexcept\u001b[0m \u001b[0mException\u001b[0m \u001b[0;32mas\u001b[0m \u001b[0me\u001b[0m\u001b[0;34m:\u001b[0m  \u001b[0;31m# pylint: disable=broad-except\u001b[0m\u001b[0;34m\u001b[0m\u001b[0;34m\u001b[0m\u001b[0m\n\u001b[1;32m     66\u001b[0m       \u001b[0mfiltered_tb\u001b[0m \u001b[0;34m=\u001b[0m \u001b[0m_process_traceback_frames\u001b[0m\u001b[0;34m(\u001b[0m\u001b[0me\u001b[0m\u001b[0;34m.\u001b[0m\u001b[0m__traceback__\u001b[0m\u001b[0;34m)\u001b[0m\u001b[0;34m\u001b[0m\u001b[0;34m\u001b[0m\u001b[0m\n",
            "\u001b[0;32m/usr/local/lib/python3.7/dist-packages/keras/engine/training.py\u001b[0m in \u001b[0;36mfit\u001b[0;34m(self, x, y, batch_size, epochs, verbose, callbacks, validation_split, validation_data, shuffle, class_weight, sample_weight, initial_epoch, steps_per_epoch, validation_steps, validation_batch_size, validation_freq, max_queue_size, workers, use_multiprocessing)\u001b[0m\n\u001b[1;32m   1382\u001b[0m                 _r=1):\n\u001b[1;32m   1383\u001b[0m               \u001b[0mcallbacks\u001b[0m\u001b[0;34m.\u001b[0m\u001b[0mon_train_batch_begin\u001b[0m\u001b[0;34m(\u001b[0m\u001b[0mstep\u001b[0m\u001b[0;34m)\u001b[0m\u001b[0;34m\u001b[0m\u001b[0;34m\u001b[0m\u001b[0m\n\u001b[0;32m-> 1384\u001b[0;31m               \u001b[0mtmp_logs\u001b[0m \u001b[0;34m=\u001b[0m \u001b[0mself\u001b[0m\u001b[0;34m.\u001b[0m\u001b[0mtrain_function\u001b[0m\u001b[0;34m(\u001b[0m\u001b[0miterator\u001b[0m\u001b[0;34m)\u001b[0m\u001b[0;34m\u001b[0m\u001b[0;34m\u001b[0m\u001b[0m\n\u001b[0m\u001b[1;32m   1385\u001b[0m               \u001b[0;32mif\u001b[0m \u001b[0mdata_handler\u001b[0m\u001b[0;34m.\u001b[0m\u001b[0mshould_sync\u001b[0m\u001b[0;34m:\u001b[0m\u001b[0;34m\u001b[0m\u001b[0;34m\u001b[0m\u001b[0m\n\u001b[1;32m   1386\u001b[0m                 \u001b[0mcontext\u001b[0m\u001b[0;34m.\u001b[0m\u001b[0masync_wait\u001b[0m\u001b[0;34m(\u001b[0m\u001b[0;34m)\u001b[0m\u001b[0;34m\u001b[0m\u001b[0;34m\u001b[0m\u001b[0m\n",
            "\u001b[0;32m/usr/local/lib/python3.7/dist-packages/tensorflow/python/util/traceback_utils.py\u001b[0m in \u001b[0;36merror_handler\u001b[0;34m(*args, **kwargs)\u001b[0m\n\u001b[1;32m    148\u001b[0m     \u001b[0mfiltered_tb\u001b[0m \u001b[0;34m=\u001b[0m \u001b[0;32mNone\u001b[0m\u001b[0;34m\u001b[0m\u001b[0;34m\u001b[0m\u001b[0m\n\u001b[1;32m    149\u001b[0m     \u001b[0;32mtry\u001b[0m\u001b[0;34m:\u001b[0m\u001b[0;34m\u001b[0m\u001b[0;34m\u001b[0m\u001b[0m\n\u001b[0;32m--> 150\u001b[0;31m       \u001b[0;32mreturn\u001b[0m \u001b[0mfn\u001b[0m\u001b[0;34m(\u001b[0m\u001b[0;34m*\u001b[0m\u001b[0margs\u001b[0m\u001b[0;34m,\u001b[0m \u001b[0;34m**\u001b[0m\u001b[0mkwargs\u001b[0m\u001b[0;34m)\u001b[0m\u001b[0;34m\u001b[0m\u001b[0;34m\u001b[0m\u001b[0m\n\u001b[0m\u001b[1;32m    151\u001b[0m     \u001b[0;32mexcept\u001b[0m \u001b[0mException\u001b[0m \u001b[0;32mas\u001b[0m \u001b[0me\u001b[0m\u001b[0;34m:\u001b[0m\u001b[0;34m\u001b[0m\u001b[0;34m\u001b[0m\u001b[0m\n\u001b[1;32m    152\u001b[0m       \u001b[0mfiltered_tb\u001b[0m \u001b[0;34m=\u001b[0m \u001b[0m_process_traceback_frames\u001b[0m\u001b[0;34m(\u001b[0m\u001b[0me\u001b[0m\u001b[0;34m.\u001b[0m\u001b[0m__traceback__\u001b[0m\u001b[0;34m)\u001b[0m\u001b[0;34m\u001b[0m\u001b[0;34m\u001b[0m\u001b[0m\n",
            "\u001b[0;32m/usr/local/lib/python3.7/dist-packages/tensorflow/python/eager/def_function.py\u001b[0m in \u001b[0;36m__call__\u001b[0;34m(self, *args, **kwds)\u001b[0m\n\u001b[1;32m    913\u001b[0m \u001b[0;34m\u001b[0m\u001b[0m\n\u001b[1;32m    914\u001b[0m       \u001b[0;32mwith\u001b[0m \u001b[0mOptionalXlaContext\u001b[0m\u001b[0;34m(\u001b[0m\u001b[0mself\u001b[0m\u001b[0;34m.\u001b[0m\u001b[0m_jit_compile\u001b[0m\u001b[0;34m)\u001b[0m\u001b[0;34m:\u001b[0m\u001b[0;34m\u001b[0m\u001b[0;34m\u001b[0m\u001b[0m\n\u001b[0;32m--> 915\u001b[0;31m         \u001b[0mresult\u001b[0m \u001b[0;34m=\u001b[0m \u001b[0mself\u001b[0m\u001b[0;34m.\u001b[0m\u001b[0m_call\u001b[0m\u001b[0;34m(\u001b[0m\u001b[0;34m*\u001b[0m\u001b[0margs\u001b[0m\u001b[0;34m,\u001b[0m \u001b[0;34m**\u001b[0m\u001b[0mkwds\u001b[0m\u001b[0;34m)\u001b[0m\u001b[0;34m\u001b[0m\u001b[0;34m\u001b[0m\u001b[0m\n\u001b[0m\u001b[1;32m    916\u001b[0m \u001b[0;34m\u001b[0m\u001b[0m\n\u001b[1;32m    917\u001b[0m       \u001b[0mnew_tracing_count\u001b[0m \u001b[0;34m=\u001b[0m \u001b[0mself\u001b[0m\u001b[0;34m.\u001b[0m\u001b[0mexperimental_get_tracing_count\u001b[0m\u001b[0;34m(\u001b[0m\u001b[0;34m)\u001b[0m\u001b[0;34m\u001b[0m\u001b[0;34m\u001b[0m\u001b[0m\n",
            "\u001b[0;32m/usr/local/lib/python3.7/dist-packages/tensorflow/python/eager/def_function.py\u001b[0m in \u001b[0;36m_call\u001b[0;34m(self, *args, **kwds)\u001b[0m\n\u001b[1;32m    945\u001b[0m       \u001b[0;31m# In this case we have created variables on the first call, so we run the\u001b[0m\u001b[0;34m\u001b[0m\u001b[0;34m\u001b[0m\u001b[0;34m\u001b[0m\u001b[0m\n\u001b[1;32m    946\u001b[0m       \u001b[0;31m# defunned version which is guaranteed to never create variables.\u001b[0m\u001b[0;34m\u001b[0m\u001b[0;34m\u001b[0m\u001b[0;34m\u001b[0m\u001b[0m\n\u001b[0;32m--> 947\u001b[0;31m       \u001b[0;32mreturn\u001b[0m \u001b[0mself\u001b[0m\u001b[0;34m.\u001b[0m\u001b[0m_stateless_fn\u001b[0m\u001b[0;34m(\u001b[0m\u001b[0;34m*\u001b[0m\u001b[0margs\u001b[0m\u001b[0;34m,\u001b[0m \u001b[0;34m**\u001b[0m\u001b[0mkwds\u001b[0m\u001b[0;34m)\u001b[0m  \u001b[0;31m# pylint: disable=not-callable\u001b[0m\u001b[0;34m\u001b[0m\u001b[0;34m\u001b[0m\u001b[0m\n\u001b[0m\u001b[1;32m    948\u001b[0m     \u001b[0;32melif\u001b[0m \u001b[0mself\u001b[0m\u001b[0;34m.\u001b[0m\u001b[0m_stateful_fn\u001b[0m \u001b[0;32mis\u001b[0m \u001b[0;32mnot\u001b[0m \u001b[0;32mNone\u001b[0m\u001b[0;34m:\u001b[0m\u001b[0;34m\u001b[0m\u001b[0;34m\u001b[0m\u001b[0m\n\u001b[1;32m    949\u001b[0m       \u001b[0;31m# Release the lock early so that multiple threads can perform the call\u001b[0m\u001b[0;34m\u001b[0m\u001b[0;34m\u001b[0m\u001b[0;34m\u001b[0m\u001b[0m\n",
            "\u001b[0;32m/usr/local/lib/python3.7/dist-packages/tensorflow/python/eager/function.py\u001b[0m in \u001b[0;36m__call__\u001b[0;34m(self, *args, **kwargs)\u001b[0m\n\u001b[1;32m   2955\u001b[0m        filtered_flat_args) = self._maybe_define_function(args, kwargs)\n\u001b[1;32m   2956\u001b[0m     return graph_function._call_flat(\n\u001b[0;32m-> 2957\u001b[0;31m         filtered_flat_args, captured_inputs=graph_function.captured_inputs)  # pylint: disable=protected-access\n\u001b[0m\u001b[1;32m   2958\u001b[0m \u001b[0;34m\u001b[0m\u001b[0m\n\u001b[1;32m   2959\u001b[0m   \u001b[0;34m@\u001b[0m\u001b[0mproperty\u001b[0m\u001b[0;34m\u001b[0m\u001b[0;34m\u001b[0m\u001b[0m\n",
            "\u001b[0;32m/usr/local/lib/python3.7/dist-packages/tensorflow/python/eager/function.py\u001b[0m in \u001b[0;36m_call_flat\u001b[0;34m(self, args, captured_inputs, cancellation_manager)\u001b[0m\n\u001b[1;32m   1852\u001b[0m       \u001b[0;31m# No tape is watching; skip to running the function.\u001b[0m\u001b[0;34m\u001b[0m\u001b[0;34m\u001b[0m\u001b[0;34m\u001b[0m\u001b[0m\n\u001b[1;32m   1853\u001b[0m       return self._build_call_outputs(self._inference_function.call(\n\u001b[0;32m-> 1854\u001b[0;31m           ctx, args, cancellation_manager=cancellation_manager))\n\u001b[0m\u001b[1;32m   1855\u001b[0m     forward_backward = self._select_forward_and_backward_functions(\n\u001b[1;32m   1856\u001b[0m         \u001b[0margs\u001b[0m\u001b[0;34m,\u001b[0m\u001b[0;34m\u001b[0m\u001b[0;34m\u001b[0m\u001b[0m\n",
            "\u001b[0;32m/usr/local/lib/python3.7/dist-packages/tensorflow/python/eager/function.py\u001b[0m in \u001b[0;36mcall\u001b[0;34m(self, ctx, args, cancellation_manager)\u001b[0m\n\u001b[1;32m    502\u001b[0m               \u001b[0minputs\u001b[0m\u001b[0;34m=\u001b[0m\u001b[0margs\u001b[0m\u001b[0;34m,\u001b[0m\u001b[0;34m\u001b[0m\u001b[0;34m\u001b[0m\u001b[0m\n\u001b[1;32m    503\u001b[0m               \u001b[0mattrs\u001b[0m\u001b[0;34m=\u001b[0m\u001b[0mattrs\u001b[0m\u001b[0;34m,\u001b[0m\u001b[0;34m\u001b[0m\u001b[0;34m\u001b[0m\u001b[0m\n\u001b[0;32m--> 504\u001b[0;31m               ctx=ctx)\n\u001b[0m\u001b[1;32m    505\u001b[0m         \u001b[0;32melse\u001b[0m\u001b[0;34m:\u001b[0m\u001b[0;34m\u001b[0m\u001b[0;34m\u001b[0m\u001b[0m\n\u001b[1;32m    506\u001b[0m           outputs = execute.execute_with_cancellation(\n",
            "\u001b[0;32m/usr/local/lib/python3.7/dist-packages/tensorflow/python/eager/execute.py\u001b[0m in \u001b[0;36mquick_execute\u001b[0;34m(op_name, num_outputs, inputs, attrs, ctx, name)\u001b[0m\n\u001b[1;32m     53\u001b[0m     \u001b[0mctx\u001b[0m\u001b[0;34m.\u001b[0m\u001b[0mensure_initialized\u001b[0m\u001b[0;34m(\u001b[0m\u001b[0;34m)\u001b[0m\u001b[0;34m\u001b[0m\u001b[0;34m\u001b[0m\u001b[0m\n\u001b[1;32m     54\u001b[0m     tensors = pywrap_tfe.TFE_Py_Execute(ctx._handle, device_name, op_name,\n\u001b[0;32m---> 55\u001b[0;31m                                         inputs, attrs, num_outputs)\n\u001b[0m\u001b[1;32m     56\u001b[0m   \u001b[0;32mexcept\u001b[0m \u001b[0mcore\u001b[0m\u001b[0;34m.\u001b[0m\u001b[0m_NotOkStatusException\u001b[0m \u001b[0;32mas\u001b[0m \u001b[0me\u001b[0m\u001b[0;34m:\u001b[0m\u001b[0;34m\u001b[0m\u001b[0;34m\u001b[0m\u001b[0m\n\u001b[1;32m     57\u001b[0m     \u001b[0;32mif\u001b[0m \u001b[0mname\u001b[0m \u001b[0;32mis\u001b[0m \u001b[0;32mnot\u001b[0m \u001b[0;32mNone\u001b[0m\u001b[0;34m:\u001b[0m\u001b[0;34m\u001b[0m\u001b[0;34m\u001b[0m\u001b[0m\n",
            "\u001b[0;31mKeyboardInterrupt\u001b[0m: "
          ]
        }
      ]
    }
  ]
}